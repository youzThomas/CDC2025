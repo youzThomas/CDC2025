{
 "cells": [
  {
   "cell_type": "markdown",
   "id": "69168d0a",
   "metadata": {},
   "source": [
    "# Basic data analysis on the background(military, major, etc) of the astronauts and the astronauts selection."
   ]
  },
  {
   "cell_type": "code",
   "execution_count": null,
   "id": "e2b56299",
   "metadata": {},
   "outputs": [
    {
     "ename": "FileNotFoundError",
     "evalue": "[Errno 2] No such file or directory: 'astronauts.csv'",
     "output_type": "error",
     "traceback": [
      "\u001b[0;31m---------------------------------------------------------------------------\u001b[0m",
      "\u001b[0;31mFileNotFoundError\u001b[0m                         Traceback (most recent call last)",
      "Cell \u001b[0;32mIn[1], line 7\u001b[0m\n\u001b[1;32m      4\u001b[0m \u001b[38;5;28;01mimport\u001b[39;00m \u001b[38;5;21;01mnumpy\u001b[39;00m \u001b[38;5;28;01mas\u001b[39;00m \u001b[38;5;21;01mnp\u001b[39;00m\n\u001b[1;32m      6\u001b[0m \u001b[38;5;66;03m# Read the datasets\u001b[39;00m\n\u001b[0;32m----> 7\u001b[0m astronauts_df \u001b[38;5;241m=\u001b[39m \u001b[43mpd\u001b[49m\u001b[38;5;241;43m.\u001b[39;49m\u001b[43mread_csv\u001b[49m\u001b[43m(\u001b[49m\u001b[38;5;124;43m'\u001b[39;49m\u001b[38;5;124;43mastronauts.csv\u001b[39;49m\u001b[38;5;124;43m'\u001b[39;49m\u001b[43m,\u001b[49m\u001b[43m \u001b[49m\u001b[43mencoding\u001b[49m\u001b[38;5;241;43m=\u001b[39;49m\u001b[38;5;124;43m'\u001b[39;49m\u001b[38;5;124;43mlatin1\u001b[39;49m\u001b[38;5;124;43m'\u001b[39;49m\u001b[43m)\u001b[49m\n\u001b[1;32m      8\u001b[0m international_df \u001b[38;5;241m=\u001b[39m pd\u001b[38;5;241m.\u001b[39mread_csv(\u001b[38;5;124m'\u001b[39m\u001b[38;5;124mInternational Astronaut Database.csv\u001b[39m\u001b[38;5;124m'\u001b[39m, encoding\u001b[38;5;241m=\u001b[39m\u001b[38;5;124m'\u001b[39m\u001b[38;5;124mlatin1\u001b[39m\u001b[38;5;124m'\u001b[39m)\n",
      "File \u001b[0;32m/Library/Frameworks/Python.framework/Versions/3.11/lib/python3.11/site-packages/pandas/io/parsers/readers.py:1026\u001b[0m, in \u001b[0;36mread_csv\u001b[0;34m(filepath_or_buffer, sep, delimiter, header, names, index_col, usecols, dtype, engine, converters, true_values, false_values, skipinitialspace, skiprows, skipfooter, nrows, na_values, keep_default_na, na_filter, verbose, skip_blank_lines, parse_dates, infer_datetime_format, keep_date_col, date_parser, date_format, dayfirst, cache_dates, iterator, chunksize, compression, thousands, decimal, lineterminator, quotechar, quoting, doublequote, escapechar, comment, encoding, encoding_errors, dialect, on_bad_lines, delim_whitespace, low_memory, memory_map, float_precision, storage_options, dtype_backend)\u001b[0m\n\u001b[1;32m   1013\u001b[0m kwds_defaults \u001b[38;5;241m=\u001b[39m _refine_defaults_read(\n\u001b[1;32m   1014\u001b[0m     dialect,\n\u001b[1;32m   1015\u001b[0m     delimiter,\n\u001b[0;32m   (...)\u001b[0m\n\u001b[1;32m   1022\u001b[0m     dtype_backend\u001b[38;5;241m=\u001b[39mdtype_backend,\n\u001b[1;32m   1023\u001b[0m )\n\u001b[1;32m   1024\u001b[0m kwds\u001b[38;5;241m.\u001b[39mupdate(kwds_defaults)\n\u001b[0;32m-> 1026\u001b[0m \u001b[38;5;28;01mreturn\u001b[39;00m \u001b[43m_read\u001b[49m\u001b[43m(\u001b[49m\u001b[43mfilepath_or_buffer\u001b[49m\u001b[43m,\u001b[49m\u001b[43m \u001b[49m\u001b[43mkwds\u001b[49m\u001b[43m)\u001b[49m\n",
      "File \u001b[0;32m/Library/Frameworks/Python.framework/Versions/3.11/lib/python3.11/site-packages/pandas/io/parsers/readers.py:620\u001b[0m, in \u001b[0;36m_read\u001b[0;34m(filepath_or_buffer, kwds)\u001b[0m\n\u001b[1;32m    617\u001b[0m _validate_names(kwds\u001b[38;5;241m.\u001b[39mget(\u001b[38;5;124m\"\u001b[39m\u001b[38;5;124mnames\u001b[39m\u001b[38;5;124m\"\u001b[39m, \u001b[38;5;28;01mNone\u001b[39;00m))\n\u001b[1;32m    619\u001b[0m \u001b[38;5;66;03m# Create the parser.\u001b[39;00m\n\u001b[0;32m--> 620\u001b[0m parser \u001b[38;5;241m=\u001b[39m \u001b[43mTextFileReader\u001b[49m\u001b[43m(\u001b[49m\u001b[43mfilepath_or_buffer\u001b[49m\u001b[43m,\u001b[49m\u001b[43m \u001b[49m\u001b[38;5;241;43m*\u001b[39;49m\u001b[38;5;241;43m*\u001b[39;49m\u001b[43mkwds\u001b[49m\u001b[43m)\u001b[49m\n\u001b[1;32m    622\u001b[0m \u001b[38;5;28;01mif\u001b[39;00m chunksize \u001b[38;5;129;01mor\u001b[39;00m iterator:\n\u001b[1;32m    623\u001b[0m     \u001b[38;5;28;01mreturn\u001b[39;00m parser\n",
      "File \u001b[0;32m/Library/Frameworks/Python.framework/Versions/3.11/lib/python3.11/site-packages/pandas/io/parsers/readers.py:1620\u001b[0m, in \u001b[0;36mTextFileReader.__init__\u001b[0;34m(self, f, engine, **kwds)\u001b[0m\n\u001b[1;32m   1617\u001b[0m     \u001b[38;5;28mself\u001b[39m\u001b[38;5;241m.\u001b[39moptions[\u001b[38;5;124m\"\u001b[39m\u001b[38;5;124mhas_index_names\u001b[39m\u001b[38;5;124m\"\u001b[39m] \u001b[38;5;241m=\u001b[39m kwds[\u001b[38;5;124m\"\u001b[39m\u001b[38;5;124mhas_index_names\u001b[39m\u001b[38;5;124m\"\u001b[39m]\n\u001b[1;32m   1619\u001b[0m \u001b[38;5;28mself\u001b[39m\u001b[38;5;241m.\u001b[39mhandles: IOHandles \u001b[38;5;241m|\u001b[39m \u001b[38;5;28;01mNone\u001b[39;00m \u001b[38;5;241m=\u001b[39m \u001b[38;5;28;01mNone\u001b[39;00m\n\u001b[0;32m-> 1620\u001b[0m \u001b[38;5;28mself\u001b[39m\u001b[38;5;241m.\u001b[39m_engine \u001b[38;5;241m=\u001b[39m \u001b[38;5;28;43mself\u001b[39;49m\u001b[38;5;241;43m.\u001b[39;49m\u001b[43m_make_engine\u001b[49m\u001b[43m(\u001b[49m\u001b[43mf\u001b[49m\u001b[43m,\u001b[49m\u001b[43m \u001b[49m\u001b[38;5;28;43mself\u001b[39;49m\u001b[38;5;241;43m.\u001b[39;49m\u001b[43mengine\u001b[49m\u001b[43m)\u001b[49m\n",
      "File \u001b[0;32m/Library/Frameworks/Python.framework/Versions/3.11/lib/python3.11/site-packages/pandas/io/parsers/readers.py:1880\u001b[0m, in \u001b[0;36mTextFileReader._make_engine\u001b[0;34m(self, f, engine)\u001b[0m\n\u001b[1;32m   1878\u001b[0m     \u001b[38;5;28;01mif\u001b[39;00m \u001b[38;5;124m\"\u001b[39m\u001b[38;5;124mb\u001b[39m\u001b[38;5;124m\"\u001b[39m \u001b[38;5;129;01mnot\u001b[39;00m \u001b[38;5;129;01min\u001b[39;00m mode:\n\u001b[1;32m   1879\u001b[0m         mode \u001b[38;5;241m+\u001b[39m\u001b[38;5;241m=\u001b[39m \u001b[38;5;124m\"\u001b[39m\u001b[38;5;124mb\u001b[39m\u001b[38;5;124m\"\u001b[39m\n\u001b[0;32m-> 1880\u001b[0m \u001b[38;5;28mself\u001b[39m\u001b[38;5;241m.\u001b[39mhandles \u001b[38;5;241m=\u001b[39m \u001b[43mget_handle\u001b[49m\u001b[43m(\u001b[49m\n\u001b[1;32m   1881\u001b[0m \u001b[43m    \u001b[49m\u001b[43mf\u001b[49m\u001b[43m,\u001b[49m\n\u001b[1;32m   1882\u001b[0m \u001b[43m    \u001b[49m\u001b[43mmode\u001b[49m\u001b[43m,\u001b[49m\n\u001b[1;32m   1883\u001b[0m \u001b[43m    \u001b[49m\u001b[43mencoding\u001b[49m\u001b[38;5;241;43m=\u001b[39;49m\u001b[38;5;28;43mself\u001b[39;49m\u001b[38;5;241;43m.\u001b[39;49m\u001b[43moptions\u001b[49m\u001b[38;5;241;43m.\u001b[39;49m\u001b[43mget\u001b[49m\u001b[43m(\u001b[49m\u001b[38;5;124;43m\"\u001b[39;49m\u001b[38;5;124;43mencoding\u001b[39;49m\u001b[38;5;124;43m\"\u001b[39;49m\u001b[43m,\u001b[49m\u001b[43m \u001b[49m\u001b[38;5;28;43;01mNone\u001b[39;49;00m\u001b[43m)\u001b[49m\u001b[43m,\u001b[49m\n\u001b[1;32m   1884\u001b[0m \u001b[43m    \u001b[49m\u001b[43mcompression\u001b[49m\u001b[38;5;241;43m=\u001b[39;49m\u001b[38;5;28;43mself\u001b[39;49m\u001b[38;5;241;43m.\u001b[39;49m\u001b[43moptions\u001b[49m\u001b[38;5;241;43m.\u001b[39;49m\u001b[43mget\u001b[49m\u001b[43m(\u001b[49m\u001b[38;5;124;43m\"\u001b[39;49m\u001b[38;5;124;43mcompression\u001b[39;49m\u001b[38;5;124;43m\"\u001b[39;49m\u001b[43m,\u001b[49m\u001b[43m \u001b[49m\u001b[38;5;28;43;01mNone\u001b[39;49;00m\u001b[43m)\u001b[49m\u001b[43m,\u001b[49m\n\u001b[1;32m   1885\u001b[0m \u001b[43m    \u001b[49m\u001b[43mmemory_map\u001b[49m\u001b[38;5;241;43m=\u001b[39;49m\u001b[38;5;28;43mself\u001b[39;49m\u001b[38;5;241;43m.\u001b[39;49m\u001b[43moptions\u001b[49m\u001b[38;5;241;43m.\u001b[39;49m\u001b[43mget\u001b[49m\u001b[43m(\u001b[49m\u001b[38;5;124;43m\"\u001b[39;49m\u001b[38;5;124;43mmemory_map\u001b[39;49m\u001b[38;5;124;43m\"\u001b[39;49m\u001b[43m,\u001b[49m\u001b[43m \u001b[49m\u001b[38;5;28;43;01mFalse\u001b[39;49;00m\u001b[43m)\u001b[49m\u001b[43m,\u001b[49m\n\u001b[1;32m   1886\u001b[0m \u001b[43m    \u001b[49m\u001b[43mis_text\u001b[49m\u001b[38;5;241;43m=\u001b[39;49m\u001b[43mis_text\u001b[49m\u001b[43m,\u001b[49m\n\u001b[1;32m   1887\u001b[0m \u001b[43m    \u001b[49m\u001b[43merrors\u001b[49m\u001b[38;5;241;43m=\u001b[39;49m\u001b[38;5;28;43mself\u001b[39;49m\u001b[38;5;241;43m.\u001b[39;49m\u001b[43moptions\u001b[49m\u001b[38;5;241;43m.\u001b[39;49m\u001b[43mget\u001b[49m\u001b[43m(\u001b[49m\u001b[38;5;124;43m\"\u001b[39;49m\u001b[38;5;124;43mencoding_errors\u001b[39;49m\u001b[38;5;124;43m\"\u001b[39;49m\u001b[43m,\u001b[49m\u001b[43m \u001b[49m\u001b[38;5;124;43m\"\u001b[39;49m\u001b[38;5;124;43mstrict\u001b[39;49m\u001b[38;5;124;43m\"\u001b[39;49m\u001b[43m)\u001b[49m\u001b[43m,\u001b[49m\n\u001b[1;32m   1888\u001b[0m \u001b[43m    \u001b[49m\u001b[43mstorage_options\u001b[49m\u001b[38;5;241;43m=\u001b[39;49m\u001b[38;5;28;43mself\u001b[39;49m\u001b[38;5;241;43m.\u001b[39;49m\u001b[43moptions\u001b[49m\u001b[38;5;241;43m.\u001b[39;49m\u001b[43mget\u001b[49m\u001b[43m(\u001b[49m\u001b[38;5;124;43m\"\u001b[39;49m\u001b[38;5;124;43mstorage_options\u001b[39;49m\u001b[38;5;124;43m\"\u001b[39;49m\u001b[43m,\u001b[49m\u001b[43m \u001b[49m\u001b[38;5;28;43;01mNone\u001b[39;49;00m\u001b[43m)\u001b[49m\u001b[43m,\u001b[49m\n\u001b[1;32m   1889\u001b[0m \u001b[43m\u001b[49m\u001b[43m)\u001b[49m\n\u001b[1;32m   1890\u001b[0m \u001b[38;5;28;01massert\u001b[39;00m \u001b[38;5;28mself\u001b[39m\u001b[38;5;241m.\u001b[39mhandles \u001b[38;5;129;01mis\u001b[39;00m \u001b[38;5;129;01mnot\u001b[39;00m \u001b[38;5;28;01mNone\u001b[39;00m\n\u001b[1;32m   1891\u001b[0m f \u001b[38;5;241m=\u001b[39m \u001b[38;5;28mself\u001b[39m\u001b[38;5;241m.\u001b[39mhandles\u001b[38;5;241m.\u001b[39mhandle\n",
      "File \u001b[0;32m/Library/Frameworks/Python.framework/Versions/3.11/lib/python3.11/site-packages/pandas/io/common.py:873\u001b[0m, in \u001b[0;36mget_handle\u001b[0;34m(path_or_buf, mode, encoding, compression, memory_map, is_text, errors, storage_options)\u001b[0m\n\u001b[1;32m    868\u001b[0m \u001b[38;5;28;01melif\u001b[39;00m \u001b[38;5;28misinstance\u001b[39m(handle, \u001b[38;5;28mstr\u001b[39m):\n\u001b[1;32m    869\u001b[0m     \u001b[38;5;66;03m# Check whether the filename is to be opened in binary mode.\u001b[39;00m\n\u001b[1;32m    870\u001b[0m     \u001b[38;5;66;03m# Binary mode does not support 'encoding' and 'newline'.\u001b[39;00m\n\u001b[1;32m    871\u001b[0m     \u001b[38;5;28;01mif\u001b[39;00m ioargs\u001b[38;5;241m.\u001b[39mencoding \u001b[38;5;129;01mand\u001b[39;00m \u001b[38;5;124m\"\u001b[39m\u001b[38;5;124mb\u001b[39m\u001b[38;5;124m\"\u001b[39m \u001b[38;5;129;01mnot\u001b[39;00m \u001b[38;5;129;01min\u001b[39;00m ioargs\u001b[38;5;241m.\u001b[39mmode:\n\u001b[1;32m    872\u001b[0m         \u001b[38;5;66;03m# Encoding\u001b[39;00m\n\u001b[0;32m--> 873\u001b[0m         handle \u001b[38;5;241m=\u001b[39m \u001b[38;5;28;43mopen\u001b[39;49m\u001b[43m(\u001b[49m\n\u001b[1;32m    874\u001b[0m \u001b[43m            \u001b[49m\u001b[43mhandle\u001b[49m\u001b[43m,\u001b[49m\n\u001b[1;32m    875\u001b[0m \u001b[43m            \u001b[49m\u001b[43mioargs\u001b[49m\u001b[38;5;241;43m.\u001b[39;49m\u001b[43mmode\u001b[49m\u001b[43m,\u001b[49m\n\u001b[1;32m    876\u001b[0m \u001b[43m            \u001b[49m\u001b[43mencoding\u001b[49m\u001b[38;5;241;43m=\u001b[39;49m\u001b[43mioargs\u001b[49m\u001b[38;5;241;43m.\u001b[39;49m\u001b[43mencoding\u001b[49m\u001b[43m,\u001b[49m\n\u001b[1;32m    877\u001b[0m \u001b[43m            \u001b[49m\u001b[43merrors\u001b[49m\u001b[38;5;241;43m=\u001b[39;49m\u001b[43merrors\u001b[49m\u001b[43m,\u001b[49m\n\u001b[1;32m    878\u001b[0m \u001b[43m            \u001b[49m\u001b[43mnewline\u001b[49m\u001b[38;5;241;43m=\u001b[39;49m\u001b[38;5;124;43m\"\u001b[39;49m\u001b[38;5;124;43m\"\u001b[39;49m\u001b[43m,\u001b[49m\n\u001b[1;32m    879\u001b[0m \u001b[43m        \u001b[49m\u001b[43m)\u001b[49m\n\u001b[1;32m    880\u001b[0m     \u001b[38;5;28;01melse\u001b[39;00m:\n\u001b[1;32m    881\u001b[0m         \u001b[38;5;66;03m# Binary mode\u001b[39;00m\n\u001b[1;32m    882\u001b[0m         handle \u001b[38;5;241m=\u001b[39m \u001b[38;5;28mopen\u001b[39m(handle, ioargs\u001b[38;5;241m.\u001b[39mmode)\n",
      "\u001b[0;31mFileNotFoundError\u001b[0m: [Errno 2] No such file or directory: 'astronauts.csv'"
     ]
    }
   ],
   "source": [
    "# Import necessary libraries\n",
    "import pandas as pd\n",
    "import unicodedata\n",
    "import numpy as np\n",
    "\n",
    "# Read the datasets\n",
    "astronauts_df = pd.read_csv('Datasets/astronauts.csv', encoding='latin1')\n",
    "international_df = pd.read_csv('Datasets/International Astronaut Database.csv', encoding='latin1')"
   ]
  },
  {
   "cell_type": "code",
   "execution_count": 39,
   "id": "68371c46",
   "metadata": {},
   "outputs": [],
   "source": [
    "# Normalize names for matching\n",
    "def normalize_name(s: str):\n",
    "  if pd.isna(s):\n",
    "    return None\n",
    "  s = unicodedata.normalize(\"NFKD\", str(s)).encode(\"ascii\",\"ignore\").decode(\"ascii\")\n",
    "  s = s.lower().strip()\n",
    "  for ch in [\",\", \".\", \"'\", '\"']: \n",
    "    s = s.replace(ch, \" \")\n",
    "  s = s.replace(\" jr\", \"\").replace(\" sr\", \"\")\n",
    "  return \" \".join(s.split())\n",
    "\n",
    "# Convert ddd:hh:mm format to total hours\n",
    "# Make sure the time data matches for both datasets\n",
    "def parse_dddhhmm(s):\n",
    "  \"\"\"ddd:hh:mm  ---> total hours\"\"\"\n",
    "  if pd.isna(s):\n",
    "    return np.nan\n",
    "  try:\n",
    "    d,h,m = map(int, s.split(\":\"))\n",
    "    return d*24 + h + m/60\n",
    "  except Exception:\n",
    "    try:\n",
    "      return float(s)\n",
    "    except: return np.nan"
   ]
  },
  {
   "cell_type": "code",
   "execution_count": 40,
   "id": "1cdde6ca",
   "metadata": {},
   "outputs": [],
   "source": [
    "# Keys and helpers\n",
    "astronauts_df[\"name_key\"] = astronauts_df[\"Name\"].map(normalize_name)\n",
    "international_df[\"name_key\"] = international_df[\"Name\"].map(normalize_name)\n",
    "\n",
    "astronauts_df[\"birth_year\"] = pd.to_datetime(astronauts_df[\"Birth Date\"], errors=\"coerce\").dt.year\n",
    "\n",
    "# Convert flight time to hours\n",
    "international_df[\"total_flight_hours\"] = international_df[\"Total Flight Time (ddd:hh:mm)\"].map(parse_dddhhmm)\n",
    "international_df[\"total_flight_days\"]  = international_df[\"total_flight_hours\"] / 24.0"
   ]
  },
  {
   "cell_type": "code",
   "execution_count": 42,
   "id": "ea5a962d",
   "metadata": {},
   "outputs": [],
   "source": [
    "# Merge the two datasets\n",
    "merged = (astronauts_df.merge(international_df[[\"name_key\",\"Country\",\"Gender\",\"Total Flights\",\"total_flight_days\"]],on=\"name_key\", how=\"left\", suffixes=(\"\", \"_iad\")))"
   ]
  },
  {
   "cell_type": "code",
   "execution_count": 44,
   "id": "7add1832",
   "metadata": {},
   "outputs": [],
   "source": [
    "# Engineer the careerpath features\n",
    "\n",
    "# 1. Flag military background\n",
    "merged[\"is_military\"] = merged[\"Military Branch\"].fillna(\"\").str.strip().ne(\"\")\n",
    "\n",
    "# 2. Map undergraduate majors to broad categories\n",
    "def map_major(major):\n",
    "    if pd.isna(major): return \"other/unknown\"\n",
    "    major = str(major).lower().strip()\n",
    "    if \"engineer\" in major: return \"engineering\"\n",
    "    if \"physics\" in major: return \"physical_sciences\"\n",
    "    if \"chemistry\" in major: return \"physical_sciences\"\n",
    "    if \"bio\" in major: return \"life_sciences\"\n",
    "    if \"med\" in major: return \"medical\"\n",
    "    if \"math\" in major: return \"math\"\n",
    "    return \"other/unknown\"\n",
    "\n",
    "merged[\"ug_discipline\"] = merged[\"Undergraduate Major\"].map(map_major)\n",
    "\n",
    "# 3. Create broad career pathway categories\n",
    "merged[\"pathway\"] = np.select(\n",
    "    [\n",
    "        merged[\"is_military\"],\n",
    "        merged[\"Alma Mater\"].notna() & merged[\"Alma Mater\"].astype(str).str.strip().ne(\"\"),\n",
    "        merged[\"Undergraduate Major\"].notna() & merged[\"Undergraduate Major\"].astype(str).str.strip().ne(\"\")\n",
    "    ],\n",
    "    [\"Military\", \"Academic\", \"STEM\"],\n",
    "    default=\"Other\"\n",
    ")\n"
   ]
  },
  {
   "cell_type": "markdown",
   "id": "cc0df02f",
   "metadata": {},
   "source": [
    "# 1. Pathway distribution & outcomes"
   ]
  },
  {
   "cell_type": "code",
   "execution_count": 46,
   "id": "dc0f8761",
   "metadata": {},
   "outputs": [],
   "source": [
    "pathway_summary = (\n",
    "    merged.assign(multi_mission = (merged[\"Total Flights\"].fillna(0) > 1) |\n",
    "                                   (merged[\"Space Flights\"].fillna(0) > 1))\n",
    "          .groupby(\"pathway\", dropna=False)\n",
    "          .agg(astronauts=(\"Name\",\"count\"),\n",
    "               avg_total_flights=(\"Total Flights\",\"mean\"),\n",
    "               pct_multi_mission=(\"multi_mission\",\"mean\"),\n",
    "               avg_total_days_in_space=(\"total_flight_days\",\"mean\"))\n",
    "          .reset_index()\n",
    ")"
   ]
  },
  {
   "cell_type": "markdown",
   "id": "c82724ac",
   "metadata": {},
   "source": [
    "# 2. Military vs civilian comparison"
   ]
  },
  {
   "cell_type": "code",
   "execution_count": 47,
   "id": "b20e2823",
   "metadata": {},
   "outputs": [],
   "source": [
    "military_vs_civil = (\n",
    "    merged.groupby(\"is_military\")\n",
    "          .agg(astronauts=(\"Name\",\"count\"),\n",
    "               avg_total_flights=(\"Total Flights\",\"mean\"),\n",
    "               avg_days_in_space=(\"total_flight_days\",\"mean\"))\n",
    "          .reset_index()\n",
    ")"
   ]
  },
  {
   "cell_type": "markdown",
   "id": "e25e4a60",
   "metadata": {},
   "source": [
    "# 3. Top undergraduate major choices"
   ]
  },
  {
   "cell_type": "code",
   "execution_count": 51,
   "id": "d1281962",
   "metadata": {},
   "outputs": [],
   "source": [
    "major_summary = (\n",
    "    merged.assign(UndergraduateMajor = merged[\"Undergraduate Major\"].astype(str).str.strip())\n",
    "          .groupby(\"Undergraduate Major\")\n",
    "          .agg(astronauts=(\"Name\",\"count\"),\n",
    "               avg_total_flights=(\"Total Flights\",\"mean\"),\n",
    "               avg_days_in_space=(\"total_flight_days\",\"mean\"))\n",
    "          .sort_values(\"astronauts\", ascending=False)\n",
    "          .head(15)\n",
    "          .reset_index()\n",
    ")"
   ]
  },
  {
   "cell_type": "markdown",
   "id": "ccf1f741",
   "metadata": {},
   "source": [
    "# Making separate csv files for outcomes"
   ]
  },
  {
   "cell_type": "code",
   "execution_count": 49,
   "id": "4c00ca4a",
   "metadata": {},
   "outputs": [],
   "source": [
    "# Career pathway summary\n",
    "pathway_summary.to_csv(\"career_pathway_summary.csv\", index=False)"
   ]
  },
  {
   "cell_type": "code",
   "execution_count": 52,
   "id": "761c2fdd",
   "metadata": {},
   "outputs": [],
   "source": [
    "# Top Undergraduate Majors\n",
    "major_summary.index = major_summary.index + 1\n",
    "major_summary.index.name = \"Rank\"\n",
    "major_summary.to_csv(\"top_undergraduate_majors_outcomes.csv\")"
   ]
  },
  {
   "cell_type": "code",
   "execution_count": 54,
   "id": "4405ece3",
   "metadata": {},
   "outputs": [],
   "source": [
    "# Military vs Civilian Outcomes\n",
    "military_vs_civil.to_csv(\"military_vs_civil_outcomes.csv\", index=False)"
   ]
  },
  {
   "cell_type": "code",
   "execution_count": 55,
   "id": "198fc34e",
   "metadata": {},
   "outputs": [],
   "source": [
    "# Merged Dataset\n",
    "merged.to_csv(\"merged_astronauts_dataset.csv\", index=False)"
   ]
  }
 ],
 "metadata": {
  "kernelspec": {
   "display_name": "Python 3",
   "language": "python",
   "name": "python3"
  },
  "language_info": {
   "codemirror_mode": {
    "name": "ipython",
    "version": 3
   },
   "file_extension": ".py",
   "mimetype": "text/x-python",
   "name": "python",
   "nbconvert_exporter": "python",
   "pygments_lexer": "ipython3",
   "version": "3.11.5"
  }
 },
 "nbformat": 4,
 "nbformat_minor": 5
}
