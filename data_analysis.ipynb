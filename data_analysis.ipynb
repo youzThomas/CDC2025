{
 "cells": [
  {
   "cell_type": "markdown",
   "id": "69168d0a",
   "metadata": {},
   "source": [
    "# Basic data analysis on the background(military, major, etc) of the astronauts and the astronauts selection."
   ]
  },
  {
   "cell_type": "code",
   "execution_count": 2,
   "id": "e2b56299",
   "metadata": {},
   "outputs": [],
   "source": [
    "# Import necessary libraries\n",
    "import pandas as pd\n",
    "import unicodedata\n",
    "import numpy as np\n",
    "\n",
    "# Read the datasets\n",
    "astronauts_df = pd.read_csv('Datasets/astronauts.csv', encoding='latin1')\n",
    "international_df = pd.read_csv('Datasets/International Astronaut Database.csv', encoding='latin1')"
   ]
  },
  {
   "cell_type": "code",
   "execution_count": 3,
   "id": "68371c46",
   "metadata": {},
   "outputs": [],
   "source": [
    "# Normalize names for matching\n",
    "def normalize_name(s: str):\n",
    "  if pd.isna(s):\n",
    "    return None\n",
    "  s = unicodedata.normalize(\"NFKD\", str(s)).encode(\"ascii\",\"ignore\").decode(\"ascii\")\n",
    "  s = s.lower().strip()\n",
    "  for ch in [\",\", \".\", \"'\", '\"']: \n",
    "    s = s.replace(ch, \" \")\n",
    "  s = s.replace(\" jr\", \"\").replace(\" sr\", \"\")\n",
    "  return \" \".join(s.split())\n",
    "\n",
    "# Convert ddd:hh:mm format to total hours\n",
    "# Make sure the time data matches for both datasets\n",
    "def parse_dddhhmm(s):\n",
    "  \"\"\"ddd:hh:mm  ---> total hours\"\"\"\n",
    "  if pd.isna(s):\n",
    "    return np.nan\n",
    "  try:\n",
    "    d,h,m = map(int, s.split(\":\"))\n",
    "    return d*24 + h + m/60\n",
    "  except Exception:\n",
    "    try:\n",
    "      return float(s)\n",
    "    except: return np.nan"
   ]
  },
  {
   "cell_type": "code",
   "execution_count": 4,
   "id": "1cdde6ca",
   "metadata": {},
   "outputs": [],
   "source": [
    "# Keys and helpers\n",
    "astronauts_df[\"name_key\"] = astronauts_df[\"Name\"].map(normalize_name)\n",
    "international_df[\"name_key\"] = international_df[\"Name\"].map(normalize_name)\n",
    "\n",
    "astronauts_df[\"birth_year\"] = pd.to_datetime(astronauts_df[\"Birth Date\"], errors=\"coerce\").dt.year\n",
    "\n",
    "# Convert flight time to hours\n",
    "international_df[\"total_flight_hours\"] = international_df[\"Total Flight Time (ddd:hh:mm)\"].map(parse_dddhhmm)\n",
    "international_df[\"total_flight_days\"]  = international_df[\"total_flight_hours\"] / 24.0"
   ]
  },
  {
   "cell_type": "code",
   "execution_count": 5,
   "id": "ea5a962d",
   "metadata": {},
   "outputs": [],
   "source": [
    "# Merge the two datasets\n",
    "merged = (astronauts_df.merge(international_df[[\"name_key\",\"Country\",\"Gender\",\"Total Flights\",\"total_flight_days\"]],on=\"name_key\", how=\"left\", suffixes=(\"\", \"_iad\")))"
   ]
  },
  {
   "cell_type": "code",
   "execution_count": 6,
   "id": "7add1832",
   "metadata": {},
   "outputs": [],
   "source": [
    "# Engineer the careerpath features\n",
    "\n",
    "# 1. Flag military background\n",
    "merged[\"is_military\"] = merged[\"Military Branch\"].fillna(\"\").str.strip().ne(\"\")\n",
    "\n",
    "# 2. Map undergraduate majors to broad categories\n",
    "def map_major(major):\n",
    "    if pd.isna(major): return \"other/unknown\"\n",
    "    major = str(major).lower().strip()\n",
    "    if \"engineer\" in major: return \"engineering\"\n",
    "    if \"physics\" in major: return \"physical_sciences\"\n",
    "    if \"chemistry\" in major: return \"physical_sciences\"\n",
    "    if \"bio\" in major: return \"life_sciences\"\n",
    "    if \"med\" in major: return \"medical\"\n",
    "    if \"math\" in major: return \"math\"\n",
    "    return \"other/unknown\"\n",
    "\n",
    "merged[\"ug_discipline\"] = merged[\"Undergraduate Major\"].map(map_major)\n",
    "\n",
    "# 3. Create broad career pathway categories\n",
    "merged[\"pathway\"] = np.select(\n",
    "    [\n",
    "        merged[\"is_military\"],\n",
    "        merged[\"Alma Mater\"].notna() & merged[\"Alma Mater\"].astype(str).str.strip().ne(\"\"),\n",
    "        merged[\"Undergraduate Major\"].notna() & merged[\"Undergraduate Major\"].astype(str).str.strip().ne(\"\")\n",
    "    ],\n",
    "    [\"Military\", \"Academic\", \"STEM\"],\n",
    "    default=\"Other\"\n",
    ")\n"
   ]
  },
  {
   "cell_type": "markdown",
   "id": "cc0df02f",
   "metadata": {},
   "source": [
    "# 1. Pathway distribution & outcomes"
   ]
  },
  {
   "cell_type": "code",
   "execution_count": 7,
   "id": "dc0f8761",
   "metadata": {},
   "outputs": [],
   "source": [
    "pathway_summary = (\n",
    "    merged.assign(multi_mission = (merged[\"Total Flights\"].fillna(0) > 1) |\n",
    "                                   (merged[\"Space Flights\"].fillna(0) > 1))\n",
    "          .groupby(\"pathway\", dropna=False)\n",
    "          .agg(astronauts=(\"Name\",\"count\"),\n",
    "               avg_total_flights=(\"Total Flights\",\"mean\"),\n",
    "               pct_multi_mission=(\"multi_mission\",\"mean\"),\n",
    "               avg_total_days_in_space=(\"total_flight_days\",\"mean\"))\n",
    "          .reset_index()\n",
    ")"
   ]
  },
  {
   "cell_type": "markdown",
   "id": "c82724ac",
   "metadata": {},
   "source": [
    "# 2. Military vs civilian comparison"
   ]
  },
  {
   "cell_type": "code",
   "execution_count": 8,
   "id": "b20e2823",
   "metadata": {},
   "outputs": [],
   "source": [
    "military_vs_civil = (\n",
    "    merged.groupby(\"is_military\")\n",
    "          .agg(astronauts=(\"Name\",\"count\"),\n",
    "               avg_total_flights=(\"Total Flights\",\"mean\"),\n",
    "               avg_days_in_space=(\"total_flight_days\",\"mean\"))\n",
    "          .reset_index()\n",
    ")"
   ]
  },
  {
   "cell_type": "markdown",
   "id": "e25e4a60",
   "metadata": {},
   "source": [
    "# 3. Top undergraduate major choices"
   ]
  },
  {
   "cell_type": "code",
   "execution_count": 9,
   "id": "d1281962",
   "metadata": {},
   "outputs": [],
   "source": [
    "major_summary = (\n",
    "    merged.assign(UndergraduateMajor = merged[\"Undergraduate Major\"].astype(str).str.strip())\n",
    "          .groupby(\"Undergraduate Major\")\n",
    "          .agg(astronauts=(\"Name\",\"count\"),\n",
    "               avg_total_flights=(\"Total Flights\",\"mean\"),\n",
    "               avg_days_in_space=(\"total_flight_days\",\"mean\"))\n",
    "          .sort_values(\"astronauts\", ascending=False)\n",
    "          .head(15)\n",
    "          .reset_index()\n",
    ")"
   ]
  },
  {
   "cell_type": "markdown",
   "id": "ccf1f741",
   "metadata": {},
   "source": [
    "# Making separate csv files for outcomes"
   ]
  },
  {
   "cell_type": "code",
   "execution_count": 49,
   "id": "4c00ca4a",
   "metadata": {},
   "outputs": [],
   "source": [
    "# Career pathway summary\n",
    "pathway_summary.to_csv(\"career_pathway_summary.csv\", index=False)"
   ]
  },
  {
   "cell_type": "code",
   "execution_count": 52,
   "id": "761c2fdd",
   "metadata": {},
   "outputs": [],
   "source": [
    "# Top Undergraduate Majors\n",
    "major_summary.index = major_summary.index + 1\n",
    "major_summary.index.name = \"Rank\"\n",
    "major_summary.to_csv(\"top_undergraduate_majors_outcomes.csv\")"
   ]
  },
  {
   "cell_type": "code",
   "execution_count": 54,
   "id": "4405ece3",
   "metadata": {},
   "outputs": [],
   "source": [
    "# Military vs Civilian Outcomes\n",
    "military_vs_civil.to_csv(\"military_vs_civil_outcomes.csv\", index=False)"
   ]
  },
  {
   "cell_type": "code",
   "execution_count": 55,
   "id": "198fc34e",
   "metadata": {},
   "outputs": [],
   "source": [
    "# Merged Dataset\n",
    "merged.to_csv(\"merged_astronauts_dataset.csv\", index=False)"
   ]
  }
 ],
 "metadata": {
  "kernelspec": {
   "display_name": "Python 3",
   "language": "python",
   "name": "python3"
  },
  "language_info": {
   "codemirror_mode": {
    "name": "ipython",
    "version": 3
   },
   "file_extension": ".py",
   "mimetype": "text/x-python",
   "name": "python",
   "nbconvert_exporter": "python",
   "pygments_lexer": "ipython3",
   "version": "3.11.5"
  }
 },
 "nbformat": 4,
 "nbformat_minor": 5
}
